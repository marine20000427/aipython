{
  "nbformat": 4,
  "nbformat_minor": 0,
  "metadata": {
    "colab": {
      "provenance": [],
      "authorship_tag": "ABX9TyM62L8s/2JmrMKOzTtcS1Ll",
      "include_colab_link": true
    },
    "kernelspec": {
      "name": "python3",
      "display_name": "Python 3"
    },
    "language_info": {
      "name": "python"
    }
  },
  "cells": [
    {
      "cell_type": "markdown",
      "metadata": {
        "id": "view-in-github",
        "colab_type": "text"
      },
      "source": [
        "<a href=\"https://colab.research.google.com/github/marine20000427/aipython/blob/main/25_09_26.ipynb\" target=\"_parent\"><img src=\"https://colab.research.google.com/assets/colab-badge.svg\" alt=\"Open In Colab\"/></a>"
      ]
    },
    {
      "cell_type": "code",
      "execution_count": 1,
      "metadata": {
        "id": "VSeP_dX7aP6q",
        "colab": {
          "base_uri": "https://localhost:8080/"
        },
        "outputId": "baaeddaf-5669-447f-c2b6-5690e9c59394"
      },
      "outputs": [
        {
          "name": "stdout",
          "output_type": "stream",
          "text": [
            "숫자를 입력하세요: 1\n"
          ]
        }
      ],
      "source": [
        "num = int(input(\"숫자를 입력하세요: \"))"
      ]
    },
    {
      "cell_type": "code",
      "source": [
        "if num % 2 == 0:\n",
        "  print(\"짝수입니다\")"
      ],
      "metadata": {
        "id": "726Gd-N3iLy6"
      },
      "execution_count": 9,
      "outputs": []
    },
    {
      "cell_type": "code",
      "source": [
        "5"
      ],
      "metadata": {
        "colab": {
          "base_uri": "https://localhost:8080/"
        },
        "id": "pvDb83LUidL6",
        "outputId": "27292597-539c-402a-d80e-3ab843f6c4db"
      },
      "execution_count": 5,
      "outputs": [
        {
          "output_type": "execute_result",
          "data": {
            "text/plain": [
              "5"
            ]
          },
          "metadata": {},
          "execution_count": 5
        }
      ]
    },
    {
      "cell_type": "code",
      "source": [
        "2"
      ],
      "metadata": {
        "colab": {
          "base_uri": "https://localhost:8080/"
        },
        "id": "Sv3SrmP6igiZ",
        "outputId": "26184388-e064-42dc-d1e5-fa6d992dcef3"
      },
      "execution_count": 6,
      "outputs": [
        {
          "output_type": "execute_result",
          "data": {
            "text/plain": [
              "2"
            ]
          },
          "metadata": {},
          "execution_count": 6
        }
      ]
    },
    {
      "cell_type": "code",
      "source": [
        "num = int(input(\"숫자를 입력하세요: \"))"
      ],
      "metadata": {
        "colab": {
          "base_uri": "https://localhost:8080/"
        },
        "id": "BXEtjRZDihQH",
        "outputId": "ab976a64-805c-4a97-ed5f-4ef7566635e5"
      },
      "execution_count": 8,
      "outputs": [
        {
          "name": "stdout",
          "output_type": "stream",
          "text": [
            "숫자를 입력하세요: 5\n"
          ]
        }
      ]
    },
    {
      "cell_type": "code",
      "source": [
        "if num % 2 == 0:\n",
        "  print(\"짝수입니다\")"
      ],
      "metadata": {
        "id": "XJBTulJ6il5Y"
      },
      "execution_count": 10,
      "outputs": []
    },
    {
      "cell_type": "code",
      "source": [
        "2"
      ],
      "metadata": {
        "colab": {
          "base_uri": "https://localhost:8080/"
        },
        "id": "5CQjw4TTir3I",
        "outputId": "23a2b4bc-202b-4d22-db33-9dfd54c3de2d"
      },
      "execution_count": 11,
      "outputs": [
        {
          "output_type": "execute_result",
          "data": {
            "text/plain": [
              "2"
            ]
          },
          "metadata": {},
          "execution_count": 11
        }
      ]
    },
    {
      "cell_type": "code",
      "source": [
        "num = int(input(\"숫자를 입력하세요: \"))\n",
        "if num % 2 == 0:\n",
        "  print(\"짝수입니다\")\n",
        "else:\n",
        "  print(\"홀수입니다\")"
      ],
      "metadata": {
        "colab": {
          "base_uri": "https://localhost:8080/"
        },
        "id": "2h94xmuFisy4",
        "outputId": "2b949274-7acc-44eb-bc99-e8ab6ab10fc5"
      },
      "execution_count": 16,
      "outputs": [
        {
          "output_type": "stream",
          "name": "stdout",
          "text": [
            "숫자를 입력하세요: 96\n",
            "짝수입니다\n"
          ]
        }
      ]
    },
    {
      "cell_type": "code",
      "source": [
        "5"
      ],
      "metadata": {
        "colab": {
          "base_uri": "https://localhost:8080/"
        },
        "id": "8OPeaAa4ixno",
        "outputId": "d27e3db1-d477-459f-f78f-fbab872c2b4b"
      },
      "execution_count": 13,
      "outputs": [
        {
          "output_type": "execute_result",
          "data": {
            "text/plain": [
              "5"
            ]
          },
          "metadata": {},
          "execution_count": 13
        }
      ]
    },
    {
      "cell_type": "code",
      "source": [
        "2"
      ],
      "metadata": {
        "colab": {
          "base_uri": "https://localhost:8080/"
        },
        "id": "zEiPysSXiyt4",
        "outputId": "48c8604a-5765-4c1b-8228-b153bde4b24b"
      },
      "execution_count": 14,
      "outputs": [
        {
          "output_type": "execute_result",
          "data": {
            "text/plain": [
              "2"
            ]
          },
          "metadata": {},
          "execution_count": 14
        }
      ]
    },
    {
      "cell_type": "code",
      "source": [],
      "metadata": {
        "id": "dOaOdN6JizuY"
      },
      "execution_count": null,
      "outputs": []
    },
    {
      "cell_type": "code",
      "source": [
        "50"
      ],
      "metadata": {
        "colab": {
          "base_uri": "https://localhost:8080/"
        },
        "id": "KoT-KmUjm6KY",
        "outputId": "a08eeeb8-45d3-49a3-8b9f-622ea66c6fa3"
      },
      "execution_count": 18,
      "outputs": [
        {
          "output_type": "execute_result",
          "data": {
            "text/plain": [
              "50"
            ]
          },
          "metadata": {},
          "execution_count": 18
        }
      ]
    },
    {
      "cell_type": "code",
      "source": [],
      "metadata": {
        "id": "gHYS_SY9m7zI"
      },
      "execution_count": null,
      "outputs": []
    },
    {
      "cell_type": "code",
      "source": [
        "for range(1,7)"
      ],
      "metadata": {
        "colab": {
          "base_uri": "https://localhost:8080/",
          "height": 110
        },
        "id": "Edq3jh--tiYo",
        "outputId": "235ef1fe-a925-444a-ad7a-6af6e8c15013"
      },
      "execution_count": 24,
      "outputs": [
        {
          "output_type": "error",
          "ename": "SyntaxError",
          "evalue": "cannot assign to function call (ipython-input-3463219522.py, line 1)",
          "traceback": [
            "\u001b[0;36m  File \u001b[0;32m\"/tmp/ipython-input-3463219522.py\"\u001b[0;36m, line \u001b[0;32m1\u001b[0m\n\u001b[0;31m    for range(1,7)\u001b[0m\n\u001b[0m        ^\u001b[0m\n\u001b[0;31mSyntaxError\u001b[0m\u001b[0;31m:\u001b[0m cannot assign to function call\n"
          ]
        }
      ]
    },
    {
      "cell_type": "code",
      "source": [
        "range(1,7)"
      ],
      "metadata": {
        "colab": {
          "base_uri": "https://localhost:8080/"
        },
        "id": "xujeM_V9uSX4",
        "outputId": "e587af92-bd06-4ffa-caed-8e5295284afa"
      },
      "execution_count": 26,
      "outputs": [
        {
          "output_type": "execute_result",
          "data": {
            "text/plain": [
              "range(1, 7)"
            ]
          },
          "metadata": {},
          "execution_count": 26
        }
      ]
    },
    {
      "cell_type": "code",
      "source": [
        "range(5)"
      ],
      "metadata": {
        "colab": {
          "base_uri": "https://localhost:8080/"
        },
        "id": "VmThVU_suTp4",
        "outputId": "5eb76f70-819a-4cc8-e311-85ac7c2d6c1c"
      },
      "execution_count": 27,
      "outputs": [
        {
          "output_type": "execute_result",
          "data": {
            "text/plain": [
              "range(0, 5)"
            ]
          },
          "metadata": {},
          "execution_count": 27
        }
      ]
    },
    {
      "cell_type": "code",
      "source": [
        "range(1, 6)"
      ],
      "metadata": {
        "colab": {
          "base_uri": "https://localhost:8080/"
        },
        "id": "PSdWYhNpubmJ",
        "outputId": "4e121ba9-0576-4fc8-acab-2e8c7f89477a"
      },
      "execution_count": 28,
      "outputs": [
        {
          "output_type": "execute_result",
          "data": {
            "text/plain": [
              "range(1, 6)"
            ]
          },
          "metadata": {},
          "execution_count": 28
        }
      ]
    },
    {
      "cell_type": "code",
      "source": [
        "sum = 0 # 합계를 저장할 변수를 0으로 초기화\n",
        "# 1부터 5까지의 숫자를 a에 차례로 대입하며 반복\n",
        "for a in range(1, 6):\n",
        "sum = sum + a # 기존 sum 값에 현재 a 값을 더해서 다시 저장\n",
        "print(\"1부터 5까지의 합은\", sum, \"입니다.\")"
      ],
      "metadata": {
        "colab": {
          "base_uri": "https://localhost:8080/",
          "height": 110
        },
        "id": "qaKJpN23uesY",
        "outputId": "e6b6254d-c176-4515-eeff-12ac80519322"
      },
      "execution_count": 29,
      "outputs": [
        {
          "output_type": "error",
          "ename": "IndentationError",
          "evalue": "expected an indented block after 'for' statement on line 3 (ipython-input-1008781307.py, line 4)",
          "traceback": [
            "\u001b[0;36m  File \u001b[0;32m\"/tmp/ipython-input-1008781307.py\"\u001b[0;36m, line \u001b[0;32m4\u001b[0m\n\u001b[0;31m    sum = sum + a # 기존 sum 값에 현재 a 값을 더해서 다시 저장\u001b[0m\n\u001b[0m    ^\u001b[0m\n\u001b[0;31mIndentationError\u001b[0m\u001b[0;31m:\u001b[0m expected an indented block after 'for' statement on line 3\n"
          ]
        }
      ]
    },
    {
      "cell_type": "code",
      "source": [
        "sum = 0 # 합계를 저장할 변수를 0으로 초기화\n",
        "# 1부터 5까지의 숫자를 a에 차례로 대입하며 반복\n",
        "for a in range(1, 6):\n",
        "  sum = sum + a # 기존 sum 값에 현재 a 값을 더해서 다시 저장\n",
        "print(\"1부터 5까지의 합은\", sum, \"입니다.\")"
      ],
      "metadata": {
        "colab": {
          "base_uri": "https://localhost:8080/"
        },
        "id": "fQmwMhCCwlSp",
        "outputId": "2bbd1103-b632-41a7-8431-3dd6fc6d3e1f"
      },
      "execution_count": 33,
      "outputs": [
        {
          "output_type": "stream",
          "name": "stdout",
          "text": [
            "1부터 5까지의 합은 15 입니다.\n"
          ]
        }
      ]
    },
    {
      "cell_type": "code",
      "source": [
        "sum = 0 # 합계를 저장할 변수를 0으로 초기화\n",
        "# 1부터 5까지의 숫자를 a에 차례로 대입하며 반복\n",
        "for a in range(1, 6):\n",
        "  sum = sum + a # 기존 sum 값에 현재 a 값을 더해서 다시 저장\n",
        "  print(\"1부터 5까지의 합은\", sum, \"입니다.\")"
      ],
      "metadata": {
        "colab": {
          "base_uri": "https://localhost:8080/"
        },
        "id": "4JcZuRiJwovp",
        "outputId": "ff721c97-ce55-4829-df02-beb3b8f43402"
      },
      "execution_count": 34,
      "outputs": [
        {
          "output_type": "stream",
          "name": "stdout",
          "text": [
            "1부터 5까지의 합은 1 입니다.\n",
            "1부터 5까지의 합은 3 입니다.\n",
            "1부터 5까지의 합은 6 입니다.\n",
            "1부터 5까지의 합은 10 입니다.\n",
            "1부터 5까지의 합은 15 입니다.\n"
          ]
        }
      ]
    },
    {
      "cell_type": "code",
      "source": [
        "sum = 0 # 합계를 저장할 변수를 0으로 초기화\n",
        "# 1부터 5까지의 숫자를 a에 차례로 대입하며 반복\n",
        "for a in range(1, 500):\n",
        "  sum = sum + a # 기존 sum 값에 현재 a 값을 더해서 다시 저장\n",
        "print(\"1부터 5까지의 합은\", sum, \"입니다.\")"
      ],
      "metadata": {
        "colab": {
          "base_uri": "https://localhost:8080/"
        },
        "id": "w92JzfOIw9P5",
        "outputId": "0c96e744-9ab9-4939-9db1-8630da23e36d"
      },
      "execution_count": 36,
      "outputs": [
        {
          "output_type": "stream",
          "name": "stdout",
          "text": [
            "1부터 5까지의 합은 124750 입니다.\n"
          ]
        }
      ]
    },
    {
      "cell_type": "code",
      "source": [],
      "metadata": {
        "id": "EdCXw6AiyIYI"
      },
      "execution_count": null,
      "outputs": []
    },
    {
      "cell_type": "code",
      "metadata": {
        "colab": {
          "base_uri": "https://localhost:8080/"
        },
        "id": "c7e9ebdc",
        "outputId": "cb9e9a32-0013-4437-8855-d286996ed525"
      },
      "source": [
        "짝수_sum = 0\n",
        "홀수_sum = 0\n",
        "\n",
        "for number in range(1, 101):\n",
        "  if number % 2 == 0:\n",
        "    even_sum += number\n",
        "  else:\n",
        "    odd_sum += number\n",
        "\n",
        "print(\"1부터 100까지의 짝수의 합:\", even_sum)\n",
        "print(\"1부터 100까지의 홀수의 합:\", odd_sum)"
      ],
      "execution_count": 45,
      "outputs": [
        {
          "output_type": "stream",
          "name": "stdout",
          "text": [
            "1부터 100까지의 짝수의 합: 20400\n",
            "1부터 100까지의 홀수의 합: 20000\n"
          ]
        }
      ]
    },
    {
      "cell_type": "code",
      "source": [
        "짝수_sum = 0\n",
        "홀수_sum = 0\n",
        "\n",
        "for number in range(1, 101):\n",
        "  if number % 2 == 0:\n",
        "    even_sum += number\n",
        "  else:\n",
        "    odd_sum += number\n",
        "\n",
        "print(\"1부터 100까지의 짝수의 합:\", even_sum)\n",
        "print(\"1부터 100까지의 홀수의 합:\", odd_sum)"
      ],
      "metadata": {
        "colab": {
          "base_uri": "https://localhost:8080/"
        },
        "id": "-WoW-Z_Iyaqp",
        "outputId": "5fd7a66f-e459-4d72-ae5f-6928f1c87c56"
      },
      "execution_count": 44,
      "outputs": [
        {
          "output_type": "stream",
          "name": "stdout",
          "text": [
            "1부터 100까지의 짝수의 합: 17850\n",
            "1부터 100까지의 홀수의 합: 17500\n"
          ]
        }
      ]
    },
    {
      "cell_type": "code",
      "source": [
        "짝수_sum = 0\n",
        "홀수_sum = 0\n",
        "\n",
        "for number in range(1, 101):\n",
        "  if number % 2 == 0:\n",
        "    짝수_sum += number\n",
        "  else:\n",
        "    홀수_sum += number\n",
        "\n",
        "print(\"1부터 100까지의 짝수의 합:\", 짝수_sum)\n",
        "print(\"1부터 100까지의 홀수의 합:\", 홀수_sum)"
      ],
      "metadata": {
        "colab": {
          "base_uri": "https://localhost:8080/"
        },
        "id": "0U2q7oDS1dvJ",
        "outputId": "4adb07f8-0a91-41fc-f508-03a28f26fb27"
      },
      "execution_count": 46,
      "outputs": [
        {
          "output_type": "stream",
          "name": "stdout",
          "text": [
            "1부터 100까지의 짝수의 합: 2550\n",
            "1부터 100까지의 홀수의 합: 2500\n"
          ]
        }
      ]
    },
    {
      "cell_type": "code",
      "source": [
        "짝수_sum = 0\n",
        "홀수_sum = 0\n",
        "\n",
        "for number in range(1, 101, 2):\n",
        "  if number % 2 == 0:\n",
        "    짝수_sum += number\n",
        "  else:\n",
        "    홀수_sum += number\n",
        "\n",
        "print(\"1부터 100까지의 짝수의 합:\", 짝수_sum)\n",
        "print(\"1부터 100까지의 홀수의 합:\", 홀수_sum)"
      ],
      "metadata": {
        "colab": {
          "base_uri": "https://localhost:8080/"
        },
        "id": "C310CL-t1pas",
        "outputId": "f74fc10a-211c-48be-9ab0-7adc6a4953a9"
      },
      "execution_count": 47,
      "outputs": [
        {
          "output_type": "stream",
          "name": "stdout",
          "text": [
            "1부터 100까지의 짝수의 합: 0\n",
            "1부터 100까지의 홀수의 합: 2500\n"
          ]
        }
      ]
    },
    {
      "cell_type": "code",
      "source": [
        "짝수_sum = 0\n",
        "홀수_sum = 0\n",
        "\n",
        "for number in range(1, 101):\n",
        "  if number % 2 == 0:\n",
        "    짝수_sum += number\n",
        "  else:\n",
        "    홀수_sum += number\n",
        "\n",
        "print(\"1부터 100까지의 짝수의 합:\", 짝수_sum)\n",
        "print(\"1부터 100까지의 홀수의 합:\", 홀수_sum)"
      ],
      "metadata": {
        "colab": {
          "base_uri": "https://localhost:8080/"
        },
        "id": "5uQqqFg32Yzp",
        "outputId": "2a8aadf0-cead-4571-ac79-39bc8c970e6c"
      },
      "execution_count": 48,
      "outputs": [
        {
          "output_type": "stream",
          "name": "stdout",
          "text": [
            "1부터 100까지의 짝수의 합: 2550\n",
            "1부터 100까지의 홀수의 합: 2500\n"
          ]
        }
      ]
    },
    {
      "cell_type": "code",
      "source": [
        "sum = 0 # 저금 총액\n",
        "money = 100 # 첫날 저금할 금액\n",
        "day = 1 # 날짜\n",
        "# 저금 총액(sum)이 50000보다 작은 동안 계속 반복\n",
        "while sum < 50000:\n",
        "  sum = sum + money # 총액에 오늘의 저금액을 더함\n",
        "  money = money + 100 # 내일 저금할 금액은 100원 증가\n",
        "  day = day + 1 # 날짜를 하루 증가\n",
        "print(\"총\", day, \"일이 걸립니다.\")"
      ],
      "metadata": {
        "colab": {
          "base_uri": "https://localhost:8080/"
        },
        "id": "XyExXbE42ak6",
        "outputId": "8ef44984-7e92-497e-d3b3-5cfaffff2c65"
      },
      "execution_count": 49,
      "outputs": [
        {
          "output_type": "stream",
          "name": "stdout",
          "text": [
            "총 33 일이 걸립니다.\n"
          ]
        }
      ]
    },
    {
      "cell_type": "code",
      "source": [
        "sum = 0 # 저금 총액\n",
        "money = 1000 # 첫날 저금할 금액\n",
        "day = 1 # 날짜\n",
        "# 저금 총액(sum)이 50000보다 작은 동안 계속 반복\n",
        "while sum < 50000:\n",
        "  sum = sum + money # 총액에 오늘의 저금액을 더함\n",
        "  money = money + 100 # 내일 저금할 금액은 100원 증가\n",
        "  day = day + 1 # 날짜를 하루 증가\n",
        "print(\"총\", day, \"일이 걸립니다.\")"
      ],
      "metadata": {
        "colab": {
          "base_uri": "https://localhost:8080/"
        },
        "id": "gxrR2otR2uCq",
        "outputId": "0ab321a0-ac19-4cdc-c57c-4b7316b7efa0"
      },
      "execution_count": 50,
      "outputs": [
        {
          "output_type": "stream",
          "name": "stdout",
          "text": [
            "총 25 일이 걸립니다.\n"
          ]
        }
      ]
    },
    {
      "cell_type": "code",
      "source": [
        "sum = 0 # 저금 총액\n",
        "money = 10000 # 첫날 저금할 금액\n",
        "day = 1 # 날짜\n",
        "# 저금 총액(sum)이 50000보다 작은 동안 계속 반복\n",
        "while sum < 50000:\n",
        "  sum = sum + money # 총액에 오늘의 저금액을 더함\n",
        "  money = money + 100 # 내일 저금할 금액은 100원 증가\n",
        "  day = day + 1 # 날짜를 하루 증가\n",
        "print(\"총\", day, \"일이 걸립니다.\")"
      ],
      "metadata": {
        "colab": {
          "base_uri": "https://localhost:8080/"
        },
        "id": "WMtptMcL2yyJ",
        "outputId": "58740b41-b4a9-4c28-c5a4-e34edc297883"
      },
      "execution_count": 51,
      "outputs": [
        {
          "output_type": "stream",
          "name": "stdout",
          "text": [
            "총 6 일이 걸립니다.\n"
          ]
        }
      ]
    },
    {
      "cell_type": "code",
      "source": [
        "sum = 0 # 저금 총액\n",
        "money = 1000 # 첫날 저금할 금액\n",
        "day = 1 # 날짜\n",
        "# 저금 총액(sum)이 50000보다 작은 동안 계속 반복\n",
        "while sum < 50000:\n",
        "  sum = sum + money # 총액에 오늘의 저금액을 더함\n",
        "  money = money + 1000 # 내일 저금할 금액은 100원 증가\n",
        "  day = day + 1 # 날짜를 하루 증가\n",
        "print(\"총\", day, \"일이 걸립니다.\")"
      ],
      "metadata": {
        "colab": {
          "base_uri": "https://localhost:8080/"
        },
        "id": "YkvdcEVv21Vq",
        "outputId": "12d3af4c-0e9c-4692-e587-acc2e976d5d8"
      },
      "execution_count": 52,
      "outputs": [
        {
          "output_type": "stream",
          "name": "stdout",
          "text": [
            "총 11 일이 걸립니다.\n"
          ]
        }
      ]
    },
    {
      "cell_type": "code",
      "source": [
        "sum = 0 # 저금 총액\n",
        "money = 1000 # 첫날 저금할 금액\n",
        "day = 1 # 날짜\n",
        "# 저금 총액(sum)이 50000보다 작은 동안 계속 반복\n",
        "while sum < 50000:\n",
        "  sum = sum + money # 총액에 오늘의 저금액을 더함\n",
        "  money = money + 1233 # 내일 저금할 금액은 100원 증가\n",
        "  day = day + 1 # 날짜를 하루 증가\n",
        "print(\"총\", day, \"일이 걸립니다.\")"
      ],
      "metadata": {
        "colab": {
          "base_uri": "https://localhost:8080/"
        },
        "id": "WrlKuWJm3oxK",
        "outputId": "1834d88c-7170-473f-f87b-d6ac6868baa7"
      },
      "execution_count": 53,
      "outputs": [
        {
          "output_type": "stream",
          "name": "stdout",
          "text": [
            "총 10 일이 걸립니다.\n"
          ]
        }
      ]
    },
    {
      "cell_type": "code",
      "source": [
        "sum = 0 # 저금 총액\n",
        "money = 1000 # 첫날 저금할 금액\n",
        "day = 1 # 날짜\n",
        "# 저금 총액(sum)이 50000보다 작은 동안 계속 반복\n",
        "while sum < 50000:\n",
        "  sum = sum + money # 총액에 오늘의 저금액을 더함\n",
        "  money = money + 1000 # 내일 저금할 금액은 100원 증가\n",
        "  # 날짜를 하루 증가\n",
        "print(\"총\", day, \"일이 걸립니다.\")"
      ],
      "metadata": {
        "colab": {
          "base_uri": "https://localhost:8080/"
        },
        "id": "QsxvxSo23yPa",
        "outputId": "31260661-a575-440b-ae0e-b07ea448f6c9"
      },
      "execution_count": 54,
      "outputs": [
        {
          "output_type": "stream",
          "name": "stdout",
          "text": [
            "총 1 일이 걸립니다.\n"
          ]
        }
      ]
    },
    {
      "cell_type": "code",
      "source": [
        "sum = 0 # 저금 총액\n",
        "money = 1000 # 첫날 저금할 금액\n",
        "day = 1 # 날짜\n",
        "# 저금 총액(sum)이 50000보다 작은 동안 계속 반복\n",
        "while sum < 50000:\n",
        "  sum = sum + money # 총액에 오늘의 저금액을 더함\n",
        "  money = money + 1000 # 내일 저금할 금액은 100원 증가\n",
        "  day = day - 1 # 날짜를 하루 증가\n",
        "print(\"총\", day, \"일이 걸립니다.\")"
      ],
      "metadata": {
        "colab": {
          "base_uri": "https://localhost:8080/"
        },
        "id": "xHF-2BWS37na",
        "outputId": "30351c13-75d0-44c3-d7b4-3f066d5d0eb7"
      },
      "execution_count": 55,
      "outputs": [
        {
          "output_type": "stream",
          "name": "stdout",
          "text": [
            "총 -9 일이 걸립니다.\n"
          ]
        }
      ]
    },
    {
      "cell_type": "code",
      "source": [
        "sum = 0 # 저금 총액\n",
        "money = 1000 # 첫날 저금할 금액\n",
        "day = 1 # 날짜\n",
        "# 저금 총액(sum)이 50000보다 작은 동안 계속 반복\n",
        "while sum < 50000:\n",
        "  sum = sum + money # 총액에 오늘의 저금액을 더함\n",
        "  money = money + 1000 # 내일 저금할 금액은 100원 증가\n",
        "  day = day + 1 # 날짜를 하루 증가\n",
        "print(\"총\", day, \"일이 걸립니다.\")"
      ],
      "metadata": {
        "colab": {
          "base_uri": "https://localhost:8080/"
        },
        "id": "YrdoukE13_ZK",
        "outputId": "80985fb8-5710-47d3-947a-3f70236ac9d4"
      },
      "execution_count": 56,
      "outputs": [
        {
          "output_type": "stream",
          "name": "stdout",
          "text": [
            "총 11 일이 걸립니다.\n"
          ]
        }
      ]
    },
    {
      "cell_type": "code",
      "source": [
        "all_sum = 0 #초기화\n",
        "\n",
        "while True:\n",
        "  num = int(input(\"숫자 입력(종료하려면 0 입력):\"))\n",
        "  if num == 0:\n",
        "    break\n",
        "  all_sum += num\n",
        "\n",
        "print(\"입력된 숫자들의 총합:\", all_sum)"
      ],
      "metadata": {
        "colab": {
          "base_uri": "https://localhost:8080/"
        },
        "id": "XY1YvHm74Bzq",
        "outputId": "8a614a5c-cab2-4fba-dba0-5a7166dfd02a"
      },
      "execution_count": 61,
      "outputs": [
        {
          "output_type": "stream",
          "name": "stdout",
          "text": [
            "숫자 입력(종료하려면 0 입력):001\n",
            "숫자 입력(종료하려면 0 입력):002\n",
            "숫자 입력(종료하려면 0 입력):01\n",
            "숫자 입력(종료하려면 0 입력):0\n",
            "입력된 숫자들의 총합: 4\n"
          ]
        }
      ]
    }
  ]
}